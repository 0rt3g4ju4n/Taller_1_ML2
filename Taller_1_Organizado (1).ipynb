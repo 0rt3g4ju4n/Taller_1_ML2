{
 "cells": [
  {
   "cell_type": "markdown",
   "id": "a0878c45",
   "metadata": {},
   "source": [
    "\n",
    "# Taller 1: Modelos de Recomendación y Aplicación de Perceptrón y Redes Neuronales ADALINE\n",
    "\n",
    "Este notebook implementa un sistema de recomendación utilizando datos públicos de videojuegos de Steam, además de técnicas de escalado y recomendaciones basadas en el comportamiento de los usuarios.\n",
    "\n",
    "## Objetivo:\n",
    "- Construir un sistema de recomendación usando usuarios, videojuegos y tiempo de juego.\n"
   ]
  },
  {
   "cell_type": "code",
   "execution_count": 11,
   "id": "93833d04",
   "metadata": {},
   "outputs": [],
   "source": [
    "\n",
    "import pandas as pd\n",
    "from surprise import Dataset, Reader\n",
    "from surprise.model_selection import train_test_split\n",
    "from surprise import SVD, KNNBasic\n",
    "from surprise import accuracy\n",
    "from surprise.model_selection import cross_validate\n",
    "from sklearn.preprocessing import MinMaxScaler\n",
    "from sklearn.metrics.pairwise import cosine_similarity\n"
   ]
  },
  {
   "cell_type": "markdown",
   "id": "df8ca6ae",
   "metadata": {},
   "source": [
    "\n",
    "## Carga de Datos:\n",
    "Cargamos los datos del archivo CSV de Steam, donde tenemos información sobre los usuarios, los videojuegos, el comportamiento del usuario (si juega o posee el juego), y las horas de juego.\n"
   ]
  },
  {
   "cell_type": "code",
   "execution_count": 12,
   "id": "92024acb",
   "metadata": {},
   "outputs": [
    {
     "data": {
      "text/html": [
       "<div>\n",
       "<style scoped>\n",
       "    .dataframe tbody tr th:only-of-type {\n",
       "        vertical-align: middle;\n",
       "    }\n",
       "\n",
       "    .dataframe tbody tr th {\n",
       "        vertical-align: top;\n",
       "    }\n",
       "\n",
       "    .dataframe thead th {\n",
       "        text-align: right;\n",
       "    }\n",
       "</style>\n",
       "<table border=\"1\" class=\"dataframe\">\n",
       "  <thead>\n",
       "    <tr style=\"text-align: right;\">\n",
       "      <th></th>\n",
       "      <th>ID</th>\n",
       "      <th>Juego</th>\n",
       "      <th>Comportamiento</th>\n",
       "      <th>Horas</th>\n",
       "    </tr>\n",
       "  </thead>\n",
       "  <tbody>\n",
       "    <tr>\n",
       "      <th>1</th>\n",
       "      <td>151603712</td>\n",
       "      <td>The Elder Scrolls V Skyrim</td>\n",
       "      <td>play</td>\n",
       "      <td>273.0</td>\n",
       "    </tr>\n",
       "    <tr>\n",
       "      <th>3</th>\n",
       "      <td>151603712</td>\n",
       "      <td>Fallout 4</td>\n",
       "      <td>play</td>\n",
       "      <td>87.0</td>\n",
       "    </tr>\n",
       "    <tr>\n",
       "      <th>5</th>\n",
       "      <td>151603712</td>\n",
       "      <td>Spore</td>\n",
       "      <td>play</td>\n",
       "      <td>14.9</td>\n",
       "    </tr>\n",
       "    <tr>\n",
       "      <th>7</th>\n",
       "      <td>151603712</td>\n",
       "      <td>Fallout New Vegas</td>\n",
       "      <td>play</td>\n",
       "      <td>12.1</td>\n",
       "    </tr>\n",
       "    <tr>\n",
       "      <th>9</th>\n",
       "      <td>151603712</td>\n",
       "      <td>Left 4 Dead 2</td>\n",
       "      <td>play</td>\n",
       "      <td>8.9</td>\n",
       "    </tr>\n",
       "  </tbody>\n",
       "</table>\n",
       "</div>"
      ],
      "text/plain": [
       "          ID                       Juego Comportamiento  Horas\n",
       "1  151603712  The Elder Scrolls V Skyrim           play  273.0\n",
       "3  151603712                   Fallout 4           play   87.0\n",
       "5  151603712                       Spore           play   14.9\n",
       "7  151603712           Fallout New Vegas           play   12.1\n",
       "9  151603712               Left 4 Dead 2           play    8.9"
      ]
     },
     "execution_count": 12,
     "metadata": {},
     "output_type": "execute_result"
    }
   ],
   "source": [
    "\n",
    "# Cargar los datos\n",
    "df = pd.read_csv('Bases/steam-200k.csv', names=['ID', 'Juego', 'Comportamiento', 'Horas', '0'], index_col=0)\n",
    "\n",
    "# Eliminar la columna no necesaria\n",
    "base = df.drop(columns=['0'])\n",
    "\n",
    "# Filtrar solo los registros donde el comportamiento es 'play'\n",
    "data = base.reset_index()\n",
    "data = data[data['Comportamiento']==\"play\"]\n",
    "\n",
    "# Mostrar los primeros datos\n",
    "data.head()\n"
   ]
  },
  {
   "cell_type": "markdown",
   "id": "536ce406",
   "metadata": {},
   "source": [
    "\n",
    "## Selección de Variables y Preprocesamiento:\n",
    "Seleccionamos las columnas relevantes: ID del usuario, el nombre del videojuego y las horas jugadas. Además, aplicamos un escalado a las horas de juego para normalizarlas.\n"
   ]
  },
  {
   "cell_type": "code",
   "execution_count": 13,
   "id": "4e342220",
   "metadata": {},
   "outputs": [
    {
     "data": {
      "text/html": [
       "<div>\n",
       "<style scoped>\n",
       "    .dataframe tbody tr th:only-of-type {\n",
       "        vertical-align: middle;\n",
       "    }\n",
       "\n",
       "    .dataframe tbody tr th {\n",
       "        vertical-align: top;\n",
       "    }\n",
       "\n",
       "    .dataframe thead th {\n",
       "        text-align: right;\n",
       "    }\n",
       "</style>\n",
       "<table border=\"1\" class=\"dataframe\">\n",
       "  <thead>\n",
       "    <tr style=\"text-align: right;\">\n",
       "      <th></th>\n",
       "      <th>ID</th>\n",
       "      <th>Juego</th>\n",
       "      <th>Horas</th>\n",
       "      <th>Horas_escaladas</th>\n",
       "    </tr>\n",
       "  </thead>\n",
       "  <tbody>\n",
       "    <tr>\n",
       "      <th>1</th>\n",
       "      <td>151603712</td>\n",
       "      <td>The Elder Scrolls V Skyrim</td>\n",
       "      <td>273.0</td>\n",
       "      <td>0.023218</td>\n",
       "    </tr>\n",
       "    <tr>\n",
       "      <th>3</th>\n",
       "      <td>151603712</td>\n",
       "      <td>Fallout 4</td>\n",
       "      <td>87.0</td>\n",
       "      <td>0.007393</td>\n",
       "    </tr>\n",
       "    <tr>\n",
       "      <th>5</th>\n",
       "      <td>151603712</td>\n",
       "      <td>Spore</td>\n",
       "      <td>14.9</td>\n",
       "      <td>0.001259</td>\n",
       "    </tr>\n",
       "    <tr>\n",
       "      <th>7</th>\n",
       "      <td>151603712</td>\n",
       "      <td>Fallout New Vegas</td>\n",
       "      <td>12.1</td>\n",
       "      <td>0.001021</td>\n",
       "    </tr>\n",
       "    <tr>\n",
       "      <th>9</th>\n",
       "      <td>151603712</td>\n",
       "      <td>Left 4 Dead 2</td>\n",
       "      <td>8.9</td>\n",
       "      <td>0.000749</td>\n",
       "    </tr>\n",
       "  </tbody>\n",
       "</table>\n",
       "</div>"
      ],
      "text/plain": [
       "          ID                       Juego  Horas  Horas_escaladas\n",
       "1  151603712  The Elder Scrolls V Skyrim  273.0         0.023218\n",
       "3  151603712                   Fallout 4   87.0         0.007393\n",
       "5  151603712                       Spore   14.9         0.001259\n",
       "7  151603712           Fallout New Vegas   12.1         0.001021\n",
       "9  151603712               Left 4 Dead 2    8.9         0.000749"
      ]
     },
     "execution_count": 13,
     "metadata": {},
     "output_type": "execute_result"
    }
   ],
   "source": [
    "\n",
    "# Seleccionar las columnas de interés\n",
    "data = data[['ID', 'Juego', 'Horas']]\n",
    "\n",
    "# Aplicar escalado a la columna de horas\n",
    "scaler = MinMaxScaler()\n",
    "data['Horas_escaladas'] = scaler.fit_transform(data[['Horas']])\n",
    "\n",
    "\n",
    "dataf = data.copy()\n",
    "# Mostrar los datos procesados\n",
    "data.head()\n"
   ]
  },
  {
   "cell_type": "markdown",
   "id": "b245b361",
   "metadata": {},
   "source": [
    "\n",
    "## Construcción del Sistema de Recomendación:\n",
    "Utilizamos la biblioteca `surprise` para implementar un modelo de recomendación basado en un algoritmo de descomposición matricial SVD.\n"
   ]
  },
  {
   "cell_type": "code",
   "execution_count": 14,
   "id": "23e692cf",
   "metadata": {},
   "outputs": [
    {
     "name": "stdout",
     "output_type": "stream",
     "text": [
      "Computing the msd similarity matrix...\n",
      "Done computing similarity matrix.\n",
      "RMSE: 0.0183\n"
     ]
    },
    {
     "data": {
      "text/plain": [
       "0.018337090918201487"
      ]
     },
     "execution_count": 14,
     "metadata": {},
     "output_type": "execute_result"
    }
   ],
   "source": [
    "\n",
    "# Definir el lector de datos para Surprise\n",
    "reader = Reader(rating_scale=(0, data['Horas'].max()))\n",
    "\n",
    "# Convertir los datos para Surprise\n",
    "datos_surprise = Dataset.load_from_df(data[['ID', 'Juego', 'Horas_escaladas']], reader)\n",
    "\n",
    "# Dividir en conjunto de entrenamiento y prueba\n",
    "entrenamiento, testset = train_test_split(datos_surprise, test_size=0.25)\n",
    "\n",
    "# Crear el modelo SVD\n",
    "model= KNNBasic()\n",
    "\n",
    "# Entrenar el modelo\n",
    "model.fit(entrenamiento)\n",
    "\n",
    "# Realizar predicciones\n",
    "predicciones = model.test(testset)\n",
    "\n",
    "# Evaluar el modelo\n",
    "accuracy.rmse(predicciones)\n"
   ]
  },
  {
   "cell_type": "markdown",
   "id": "8fd00a61",
   "metadata": {},
   "source": [
    "\n",
    "## Evaluación del Sistema de Recomendación:\n",
    "Finalmente, evaluamos el rendimiento del modelo utilizando validación cruzada para calcular métricas como RMSE (Error Cuadrático Medio) y MAE (Error Absoluto Medio).\n"
   ]
  },
  {
   "cell_type": "code",
   "execution_count": 15,
   "id": "328ff1a2",
   "metadata": {},
   "outputs": [
    {
     "name": "stdout",
     "output_type": "stream",
     "text": [
      "RMSE: 0.0183\n"
     ]
    },
    {
     "data": {
      "text/html": [
       "<div>\n",
       "<style scoped>\n",
       "    .dataframe tbody tr th:only-of-type {\n",
       "        vertical-align: middle;\n",
       "    }\n",
       "\n",
       "    .dataframe tbody tr th {\n",
       "        vertical-align: top;\n",
       "    }\n",
       "\n",
       "    .dataframe thead th {\n",
       "        text-align: right;\n",
       "    }\n",
       "</style>\n",
       "<table border=\"1\" class=\"dataframe\">\n",
       "  <thead>\n",
       "    <tr style=\"text-align: right;\">\n",
       "      <th></th>\n",
       "      <th>ID</th>\n",
       "      <th>Horas</th>\n",
       "      <th>Horas_escaladas</th>\n",
       "    </tr>\n",
       "  </thead>\n",
       "  <tbody>\n",
       "    <tr>\n",
       "      <th>count</th>\n",
       "      <td>7.048900e+04</td>\n",
       "      <td>70489.000000</td>\n",
       "      <td>70489.000000</td>\n",
       "    </tr>\n",
       "    <tr>\n",
       "      <th>mean</th>\n",
       "      <td>1.058812e+08</td>\n",
       "      <td>48.878063</td>\n",
       "      <td>0.004150</td>\n",
       "    </tr>\n",
       "    <tr>\n",
       "      <th>std</th>\n",
       "      <td>7.150365e+07</td>\n",
       "      <td>229.335236</td>\n",
       "      <td>0.019511</td>\n",
       "    </tr>\n",
       "    <tr>\n",
       "      <th>min</th>\n",
       "      <td>5.250000e+03</td>\n",
       "      <td>0.100000</td>\n",
       "      <td>0.000000</td>\n",
       "    </tr>\n",
       "    <tr>\n",
       "      <th>25%</th>\n",
       "      <td>4.934256e+07</td>\n",
       "      <td>1.000000</td>\n",
       "      <td>0.000077</td>\n",
       "    </tr>\n",
       "    <tr>\n",
       "      <th>50%</th>\n",
       "      <td>9.169067e+07</td>\n",
       "      <td>4.500000</td>\n",
       "      <td>0.000374</td>\n",
       "    </tr>\n",
       "    <tr>\n",
       "      <th>75%</th>\n",
       "      <td>1.556738e+08</td>\n",
       "      <td>19.100000</td>\n",
       "      <td>0.001616</td>\n",
       "    </tr>\n",
       "    <tr>\n",
       "      <th>max</th>\n",
       "      <td>3.099031e+08</td>\n",
       "      <td>11754.000000</td>\n",
       "      <td>1.000000</td>\n",
       "    </tr>\n",
       "  </tbody>\n",
       "</table>\n",
       "</div>"
      ],
      "text/plain": [
       "                 ID         Horas  Horas_escaladas\n",
       "count  7.048900e+04  70489.000000     70489.000000\n",
       "mean   1.058812e+08     48.878063         0.004150\n",
       "std    7.150365e+07    229.335236         0.019511\n",
       "min    5.250000e+03      0.100000         0.000000\n",
       "25%    4.934256e+07      1.000000         0.000077\n",
       "50%    9.169067e+07      4.500000         0.000374\n",
       "75%    1.556738e+08     19.100000         0.001616\n",
       "max    3.099031e+08  11754.000000         1.000000"
      ]
     },
     "execution_count": 15,
     "metadata": {},
     "output_type": "execute_result"
    }
   ],
   "source": [
    "model.sim_options\n",
    "predictions = model.test(testset)\n",
    "accuracy.rmse(predictions)\n",
    "model.predict(568, 519)\n",
    "dataf.describe()"
   ]
  }
 ],
 "metadata": {
  "kernelspec": {
   "display_name": "Python 3",
   "language": "python",
   "name": "python3"
  },
  "language_info": {
   "codemirror_mode": {
    "name": "ipython",
    "version": 3
   },
   "file_extension": ".py",
   "mimetype": "text/x-python",
   "name": "python",
   "nbconvert_exporter": "python",
   "pygments_lexer": "ipython3",
   "version": "3.11.9"
  }
 },
 "nbformat": 4,
 "nbformat_minor": 5
}
