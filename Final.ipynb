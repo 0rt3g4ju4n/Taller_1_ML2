{
 "cells": [
  {
   "cell_type": "markdown",
   "metadata": {},
   "source": [
    "# Importación de Librerías y Carga de Datos\n",
    "\n",
    "En esta primera sección, importamos las librerías necesarias para trabajar con los datos y los algoritmos de recomendación. También cargamos el dataset `steam-200k.csv` que contiene información sobre usuarios, juegos y horas jugadas.\n"
   ]
  },
  {
   "cell_type": "code",
   "execution_count": 109,
   "metadata": {},
   "outputs": [],
   "source": [
    "\n",
    "import matplotlib.pyplot as plt\n",
    "import seaborn as sns\n",
    "import pandas as pd\n",
    "import numpy as np\n",
    "from surprise import Dataset, Reader\n",
    "from surprise.model_selection import train_test_split\n",
    "from mlxtend.frequent_patterns import apriori, association_rules, fpgrowth, fpmax\n",
    "from surprise import SVD, KNNBasic\n",
    "from surprise import accuracy\n",
    "from sklearn.linear_model import Perceptron\n",
    "from surprise.model_selection import cross_validate\n",
    "from sklearn.preprocessing import MinMaxScaler\n",
    "from sklearn.linear_model import SGDClassifier\n",
    "from sklearn.metrics.pairwise import cosine_similarity\n",
    "from sklearn.linear_model import LogisticRegression\n",
    "from sklearn.metrics import classification_report"
   ]
  },
  {
   "cell_type": "markdown",
   "metadata": {},
   "source": [
    "# Preprocesamiento de Datos\n",
    "\n",
    "El dataset contiene varios tipos de comportamiento (por ejemplo, \"play\" y \"purchase\"). Nos enfocaremos solo en las interacciones donde los usuarios juegan (\"play\"). También normalizamos la columna `Hours` para que los valores estén entre 0 y 1, lo cual es útil para el modelo.\n"
   ]
  },
  {
   "cell_type": "code",
   "execution_count": 110,
   "metadata": {},
   "outputs": [
    {
     "name": "stderr",
     "output_type": "stream",
     "text": [
      "<>:1: DeprecationWarning:\n",
      "\n",
      "invalid escape sequence '\\s'\n",
      "\n",
      "<>:1: DeprecationWarning:\n",
      "\n",
      "invalid escape sequence '\\s'\n",
      "\n",
      "C:\\Users\\juano\\AppData\\Local\\Temp\\ipykernel_16780\\149554118.py:1: DeprecationWarning:\n",
      "\n",
      "invalid escape sequence '\\s'\n",
      "\n"
     ]
    }
   ],
   "source": [
    "df = pd.read_csv('Bases\\steam-200k.csv', names=['ID', 'Game', 'Behavior_name', 'Hours', '0'], index_col=0)"
   ]
  },
  {
   "cell_type": "code",
   "execution_count": 111,
   "metadata": {},
   "outputs": [
    {
     "data": {
      "text/html": [
       "<div>\n",
       "<style scoped>\n",
       "    .dataframe tbody tr th:only-of-type {\n",
       "        vertical-align: middle;\n",
       "    }\n",
       "\n",
       "    .dataframe tbody tr th {\n",
       "        vertical-align: top;\n",
       "    }\n",
       "\n",
       "    .dataframe thead th {\n",
       "        text-align: right;\n",
       "    }\n",
       "</style>\n",
       "<table border=\"1\" class=\"dataframe\">\n",
       "  <thead>\n",
       "    <tr style=\"text-align: right;\">\n",
       "      <th></th>\n",
       "      <th>ID</th>\n",
       "      <th>Game</th>\n",
       "      <th>Behavior_name</th>\n",
       "      <th>Hours</th>\n",
       "    </tr>\n",
       "  </thead>\n",
       "  <tbody>\n",
       "    <tr>\n",
       "      <th>1</th>\n",
       "      <td>151603712</td>\n",
       "      <td>The Elder Scrolls V Skyrim</td>\n",
       "      <td>play</td>\n",
       "      <td>273.0</td>\n",
       "    </tr>\n",
       "    <tr>\n",
       "      <th>3</th>\n",
       "      <td>151603712</td>\n",
       "      <td>Fallout 4</td>\n",
       "      <td>play</td>\n",
       "      <td>87.0</td>\n",
       "    </tr>\n",
       "    <tr>\n",
       "      <th>5</th>\n",
       "      <td>151603712</td>\n",
       "      <td>Spore</td>\n",
       "      <td>play</td>\n",
       "      <td>14.9</td>\n",
       "    </tr>\n",
       "    <tr>\n",
       "      <th>7</th>\n",
       "      <td>151603712</td>\n",
       "      <td>Fallout New Vegas</td>\n",
       "      <td>play</td>\n",
       "      <td>12.1</td>\n",
       "    </tr>\n",
       "    <tr>\n",
       "      <th>9</th>\n",
       "      <td>151603712</td>\n",
       "      <td>Left 4 Dead 2</td>\n",
       "      <td>play</td>\n",
       "      <td>8.9</td>\n",
       "    </tr>\n",
       "    <tr>\n",
       "      <th>...</th>\n",
       "      <td>...</td>\n",
       "      <td>...</td>\n",
       "      <td>...</td>\n",
       "      <td>...</td>\n",
       "    </tr>\n",
       "    <tr>\n",
       "      <th>199991</th>\n",
       "      <td>128470551</td>\n",
       "      <td>Fallen Earth</td>\n",
       "      <td>play</td>\n",
       "      <td>2.4</td>\n",
       "    </tr>\n",
       "    <tr>\n",
       "      <th>199993</th>\n",
       "      <td>128470551</td>\n",
       "      <td>Magic Duels</td>\n",
       "      <td>play</td>\n",
       "      <td>2.2</td>\n",
       "    </tr>\n",
       "    <tr>\n",
       "      <th>199995</th>\n",
       "      <td>128470551</td>\n",
       "      <td>Titan Souls</td>\n",
       "      <td>play</td>\n",
       "      <td>1.5</td>\n",
       "    </tr>\n",
       "    <tr>\n",
       "      <th>199997</th>\n",
       "      <td>128470551</td>\n",
       "      <td>Grand Theft Auto Vice City</td>\n",
       "      <td>play</td>\n",
       "      <td>1.5</td>\n",
       "    </tr>\n",
       "    <tr>\n",
       "      <th>199999</th>\n",
       "      <td>128470551</td>\n",
       "      <td>RUSH</td>\n",
       "      <td>play</td>\n",
       "      <td>1.4</td>\n",
       "    </tr>\n",
       "  </tbody>\n",
       "</table>\n",
       "<p>70489 rows × 4 columns</p>\n",
       "</div>"
      ],
      "text/plain": [
       "               ID                        Game Behavior_name  Hours\n",
       "1       151603712  The Elder Scrolls V Skyrim          play  273.0\n",
       "3       151603712                   Fallout 4          play   87.0\n",
       "5       151603712                       Spore          play   14.9\n",
       "7       151603712           Fallout New Vegas          play   12.1\n",
       "9       151603712               Left 4 Dead 2          play    8.9\n",
       "...           ...                         ...           ...    ...\n",
       "199991  128470551                Fallen Earth          play    2.4\n",
       "199993  128470551                 Magic Duels          play    2.2\n",
       "199995  128470551                 Titan Souls          play    1.5\n",
       "199997  128470551  Grand Theft Auto Vice City          play    1.5\n",
       "199999  128470551                        RUSH          play    1.4\n",
       "\n",
       "[70489 rows x 4 columns]"
      ]
     },
     "execution_count": 111,
     "metadata": {},
     "output_type": "execute_result"
    }
   ],
   "source": [
    "base = df.drop(columns=['0'])\n",
    "datad =base.reset_index()\n",
    "data = datad[datad['Behavior_name']==\"play\"]\n",
    "data"
   ]
  },
  {
   "cell_type": "code",
   "execution_count": 112,
   "metadata": {},
   "outputs": [],
   "source": [
    "data = data[['ID', 'Game', 'Hours']]"
   ]
  },
  {
   "cell_type": "code",
   "execution_count": 113,
   "metadata": {},
   "outputs": [],
   "source": [
    "scaler = MinMaxScaler()\n",
    "data['Escalado'] = scaler.fit_transform(data[['Hours']])"
   ]
  },
  {
   "cell_type": "code",
   "execution_count": 114,
   "metadata": {},
   "outputs": [],
   "source": [
    "dataf = data.copy()"
   ]
  },
  {
   "cell_type": "markdown",
   "metadata": {},
   "source": [
    "# Preparación para Modelos de Recomendación\n",
    "\n",
    "Para el sistema de recomendación, necesitamos transformar los datos en un formato que Surprise pueda utilizar. Aquí, utilizamos un lector que trabaja con el rango de valores normalizados (0 a 1). Luego, dividimos los datos en conjuntos de entrenamiento y prueba.\n"
   ]
  },
  {
   "cell_type": "code",
   "execution_count": 115,
   "metadata": {},
   "outputs": [],
   "source": [
    "reader = Reader(rating_scale=(0, 1))\n",
    "data = Dataset.load_from_df(data[['ID', 'Game', 'Escalado']], reader)"
   ]
  },
  {
   "cell_type": "code",
   "execution_count": 116,
   "metadata": {},
   "outputs": [],
   "source": [
    "trainset, testset = train_test_split(data, test_size=0.25)"
   ]
  },
  {
   "cell_type": "markdown",
   "metadata": {},
   "source": [
    "# Entrenamiento del Modelo KNN\n",
    "\n",
    "Entrenamos un modelo basado en KNN (K-Nearest Neighbors) para realizar recomendaciones. Este modelo utiliza la similitud entre usuarios para predecir cuántas horas podrían jugar a ciertos juegos.\n"
   ]
  },
  {
   "cell_type": "code",
   "execution_count": 117,
   "metadata": {},
   "outputs": [
    {
     "name": "stdout",
     "output_type": "stream",
     "text": [
      "Computing the msd similarity matrix...\n",
      "Done computing similarity matrix.\n",
      "RMSE: 0.0182\n"
     ]
    },
    {
     "data": {
      "text/plain": [
       "0.018162125723204435"
      ]
     },
     "execution_count": 117,
     "metadata": {},
     "output_type": "execute_result"
    }
   ],
   "source": [
    "model = KNNBasic()\n",
    "model.fit(trainset)\n",
    "\n",
    "predictions = model.test(testset)\n",
    "accuracy.rmse(predictions)\n"
   ]
  },
  {
   "cell_type": "markdown",
   "metadata": {},
   "source": [
    "# Análisis Descriptivo de los Datos\n",
    "\n",
    "Realizamos una descripción estadística básica de los datos para entender mejor la distribución de horas jugadas y otras características importantes.\n"
   ]
  },
  {
   "cell_type": "code",
   "execution_count": 118,
   "metadata": {},
   "outputs": [
    {
     "data": {
      "text/html": [
       "<div>\n",
       "<style scoped>\n",
       "    .dataframe tbody tr th:only-of-type {\n",
       "        vertical-align: middle;\n",
       "    }\n",
       "\n",
       "    .dataframe tbody tr th {\n",
       "        vertical-align: top;\n",
       "    }\n",
       "\n",
       "    .dataframe thead th {\n",
       "        text-align: right;\n",
       "    }\n",
       "</style>\n",
       "<table border=\"1\" class=\"dataframe\">\n",
       "  <thead>\n",
       "    <tr style=\"text-align: right;\">\n",
       "      <th></th>\n",
       "      <th>ID</th>\n",
       "      <th>Hours</th>\n",
       "      <th>Escalado</th>\n",
       "    </tr>\n",
       "  </thead>\n",
       "  <tbody>\n",
       "    <tr>\n",
       "      <th>count</th>\n",
       "      <td>7.048900e+04</td>\n",
       "      <td>70489.000000</td>\n",
       "      <td>70489.000000</td>\n",
       "    </tr>\n",
       "    <tr>\n",
       "      <th>mean</th>\n",
       "      <td>1.058812e+08</td>\n",
       "      <td>48.878063</td>\n",
       "      <td>0.004150</td>\n",
       "    </tr>\n",
       "    <tr>\n",
       "      <th>std</th>\n",
       "      <td>7.150365e+07</td>\n",
       "      <td>229.335236</td>\n",
       "      <td>0.019511</td>\n",
       "    </tr>\n",
       "    <tr>\n",
       "      <th>min</th>\n",
       "      <td>5.250000e+03</td>\n",
       "      <td>0.100000</td>\n",
       "      <td>0.000000</td>\n",
       "    </tr>\n",
       "    <tr>\n",
       "      <th>25%</th>\n",
       "      <td>4.934256e+07</td>\n",
       "      <td>1.000000</td>\n",
       "      <td>0.000077</td>\n",
       "    </tr>\n",
       "    <tr>\n",
       "      <th>50%</th>\n",
       "      <td>9.169067e+07</td>\n",
       "      <td>4.500000</td>\n",
       "      <td>0.000374</td>\n",
       "    </tr>\n",
       "    <tr>\n",
       "      <th>75%</th>\n",
       "      <td>1.556738e+08</td>\n",
       "      <td>19.100000</td>\n",
       "      <td>0.001616</td>\n",
       "    </tr>\n",
       "    <tr>\n",
       "      <th>max</th>\n",
       "      <td>3.099031e+08</td>\n",
       "      <td>11754.000000</td>\n",
       "      <td>1.000000</td>\n",
       "    </tr>\n",
       "  </tbody>\n",
       "</table>\n",
       "</div>"
      ],
      "text/plain": [
       "                 ID         Hours      Escalado\n",
       "count  7.048900e+04  70489.000000  70489.000000\n",
       "mean   1.058812e+08     48.878063      0.004150\n",
       "std    7.150365e+07    229.335236      0.019511\n",
       "min    5.250000e+03      0.100000      0.000000\n",
       "25%    4.934256e+07      1.000000      0.000077\n",
       "50%    9.169067e+07      4.500000      0.000374\n",
       "75%    1.556738e+08     19.100000      0.001616\n",
       "max    3.099031e+08  11754.000000      1.000000"
      ]
     },
     "execution_count": 118,
     "metadata": {},
     "output_type": "execute_result"
    }
   ],
   "source": [
    "dataf.describe()\n"
   ]
  },
  {
   "cell_type": "code",
   "execution_count": 119,
   "metadata": {},
   "outputs": [
    {
     "data": {
      "image/png": "[encoded data removed]",
      "text/plain": [
       "<Figure size 2000x600 with 1 Axes>"
      ]
     },
     "metadata": {},
     "output_type": "display_data"
    }
   ],
   "source": [
    "std_hours = dataf['Hours'].std()\n",
    "plt.figure(figsize=(20, 6))\n",
    "sns.histplot(dataf['Hours'], kde=True, bins=50, color='blue', label='Hours', alpha=0.6)\n",
    "plt.title(f'Distribución de Hours (Desviación estándar: {std_hours:.2f})', fontsize=16)\n",
    "plt.xlabel('Horas Jugadas', fontsize=12)\n",
    "plt.ylabel('Frecuencia', fontsize=12)\n",
    "\n",
    "plt.xlim(0, 10000) \n",
    "plt.xticks([i for i in range(0, 10000 + 250, 250)])\n",
    "\n",
    "plt.ylim(0, 200000)\n",
    "\n",
    "plt.text(0.95, 0.95, f'Desviación Estándar: {std_hours:.2f}', \n",
    "         horizontalalignment='right', verticalalignment='top', \n",
    "         transform=plt.gca().transAxes, fontsize=12, color='blue')\n",
    "\n",
    "plt.show()"
   ]
  },
  {
   "cell_type": "code",
   "execution_count": 120,
   "metadata": {},
   "outputs": [
    {
     "data": {
      "image/png": "[encoded data removed]",
      "text/plain": [
       "<Figure size 2000x600 with 1 Axes>"
      ]
     },
     "metadata": {},
     "output_type": "display_data"
    }
   ],
   "source": [
    "std_escalado = dataf['Escalado'].std()\n",
    "plt.figure(figsize=(20, 6))\n",
    "sns.histplot(dataf['Escalado'], kde=True, bins=100, color='green', label='Escalado', alpha=0.6)\n",
    "plt.title(f'Distribución de Escalado (Desviación estándar: {std_escalado:.5f})', fontsize=16)\n",
    "plt.xlabel('Escalado', fontsize=12)\n",
    "plt.ylabel('Frecuencia', fontsize=12)\n",
    "\n",
    "plt.xlim(0, 1)\n",
    "plt.xticks([i for i in np.arange(0, 1 + 0.025, 0.025)])\n",
    "\n",
    "plt.ylim(0, 120000)\n",
    "\n",
    "plt.text(0.95, 0.95, f'Desviación Estándar: {std_escalado:.5f}', \n",
    "         horizontalalignment='right', verticalalignment='top', \n",
    "         transform=plt.gca().transAxes, fontsize=12, color='green')\n",
    "\n",
    "plt.show()"
   ]
  },
  {
   "cell_type": "markdown",
   "metadata": {},
   "source": [
    "# Prueba estableciendo la recomendación de 1 a 5"
   ]
  },
  {
   "cell_type": "code",
   "execution_count": 121,
   "metadata": {},
   "outputs": [
    {
     "name": "stderr",
     "output_type": "stream",
     "text": [
      "<>:1: DeprecationWarning:\n",
      "\n",
      "invalid escape sequence '\\s'\n",
      "\n",
      "<>:1: DeprecationWarning:\n",
      "\n",
      "invalid escape sequence '\\s'\n",
      "\n",
      "C:\\Users\\juano\\AppData\\Local\\Temp\\ipykernel_16780\\2311578986.py:1: DeprecationWarning:\n",
      "\n",
      "invalid escape sequence '\\s'\n",
      "\n"
     ]
    },
    {
     "data": {
      "text/html": [
       "<div>\n",
       "<style scoped>\n",
       "    .dataframe tbody tr th:only-of-type {\n",
       "        vertical-align: middle;\n",
       "    }\n",
       "\n",
       "    .dataframe tbody tr th {\n",
       "        vertical-align: top;\n",
       "    }\n",
       "\n",
       "    .dataframe thead th {\n",
       "        text-align: right;\n",
       "    }\n",
       "</style>\n",
       "<table border=\"1\" class=\"dataframe\">\n",
       "  <thead>\n",
       "    <tr style=\"text-align: right;\">\n",
       "      <th></th>\n",
       "      <th>ID</th>\n",
       "      <th>Game</th>\n",
       "      <th>Behavior_name</th>\n",
       "      <th>Hours</th>\n",
       "    </tr>\n",
       "  </thead>\n",
       "  <tbody>\n",
       "    <tr>\n",
       "      <th>1</th>\n",
       "      <td>151603712</td>\n",
       "      <td>The Elder Scrolls V Skyrim</td>\n",
       "      <td>play</td>\n",
       "      <td>273.0</td>\n",
       "    </tr>\n",
       "    <tr>\n",
       "      <th>3</th>\n",
       "      <td>151603712</td>\n",
       "      <td>Fallout 4</td>\n",
       "      <td>play</td>\n",
       "      <td>87.0</td>\n",
       "    </tr>\n",
       "    <tr>\n",
       "      <th>5</th>\n",
       "      <td>151603712</td>\n",
       "      <td>Spore</td>\n",
       "      <td>play</td>\n",
       "      <td>14.9</td>\n",
       "    </tr>\n",
       "    <tr>\n",
       "      <th>7</th>\n",
       "      <td>151603712</td>\n",
       "      <td>Fallout New Vegas</td>\n",
       "      <td>play</td>\n",
       "      <td>12.1</td>\n",
       "    </tr>\n",
       "    <tr>\n",
       "      <th>9</th>\n",
       "      <td>151603712</td>\n",
       "      <td>Left 4 Dead 2</td>\n",
       "      <td>play</td>\n",
       "      <td>8.9</td>\n",
       "    </tr>\n",
       "    <tr>\n",
       "      <th>...</th>\n",
       "      <td>...</td>\n",
       "      <td>...</td>\n",
       "      <td>...</td>\n",
       "      <td>...</td>\n",
       "    </tr>\n",
       "    <tr>\n",
       "      <th>199991</th>\n",
       "      <td>128470551</td>\n",
       "      <td>Fallen Earth</td>\n",
       "      <td>play</td>\n",
       "      <td>2.4</td>\n",
       "    </tr>\n",
       "    <tr>\n",
       "      <th>199993</th>\n",
       "      <td>128470551</td>\n",
       "      <td>Magic Duels</td>\n",
       "      <td>play</td>\n",
       "      <td>2.2</td>\n",
       "    </tr>\n",
       "    <tr>\n",
       "      <th>199995</th>\n",
       "      <td>128470551</td>\n",
       "      <td>Titan Souls</td>\n",
       "      <td>play</td>\n",
       "      <td>1.5</td>\n",
       "    </tr>\n",
       "    <tr>\n",
       "      <th>199997</th>\n",
       "      <td>128470551</td>\n",
       "      <td>Grand Theft Auto Vice City</td>\n",
       "      <td>play</td>\n",
       "      <td>1.5</td>\n",
       "    </tr>\n",
       "    <tr>\n",
       "      <th>199999</th>\n",
       "      <td>128470551</td>\n",
       "      <td>RUSH</td>\n",
       "      <td>play</td>\n",
       "      <td>1.4</td>\n",
       "    </tr>\n",
       "  </tbody>\n",
       "</table>\n",
       "<p>70489 rows × 4 columns</p>\n",
       "</div>"
      ],
      "text/plain": [
       "               ID                        Game Behavior_name  Hours\n",
       "1       151603712  The Elder Scrolls V Skyrim          play  273.0\n",
       "3       151603712                   Fallout 4          play   87.0\n",
       "5       151603712                       Spore          play   14.9\n",
       "7       151603712           Fallout New Vegas          play   12.1\n",
       "9       151603712               Left 4 Dead 2          play    8.9\n",
       "...           ...                         ...           ...    ...\n",
       "199991  128470551                Fallen Earth          play    2.4\n",
       "199993  128470551                 Magic Duels          play    2.2\n",
       "199995  128470551                 Titan Souls          play    1.5\n",
       "199997  128470551  Grand Theft Auto Vice City          play    1.5\n",
       "199999  128470551                        RUSH          play    1.4\n",
       "\n",
       "[70489 rows x 4 columns]"
      ]
     },
     "execution_count": 121,
     "metadata": {},
     "output_type": "execute_result"
    }
   ],
   "source": [
    "df = pd.read_csv('Bases\\steam-200k.csv', names=['ID', 'Game', 'Behavior_name', 'Hours', '0'], index_col=0)\n",
    "base = df.drop(columns=['0'])\n",
    "datad =base.reset_index()\n",
    "data = datad[datad['Behavior_name']==\"play\"]\n",
    "data"
   ]
  },
  {
   "cell_type": "code",
   "execution_count": 122,
   "metadata": {},
   "outputs": [],
   "source": [
    "dset = Dataset.load_from_df(data[['ID','Game','Hours']], Reader(rating_scale=(1, 5)))"
   ]
  },
  {
   "cell_type": "code",
   "execution_count": 123,
   "metadata": {},
   "outputs": [
    {
     "name": "stderr",
     "output_type": "stream",
     "text": [
      "C:\\Users\\juano\\AppData\\Local\\Temp\\ipykernel_16780\\1204397360.py:13: SettingWithCopyWarning:\n",
      "\n",
      "\n",
      "A value is trying to be set on a copy of a slice from a DataFrame.\n",
      "Try using .loc[row_indexer,col_indexer] = value instead\n",
      "\n",
      "See the caveats in the documentation: https://pandas.pydata.org/pandas-docs/stable/user_guide/indexing.html#returning-a-view-versus-a-copy\n",
      "\n"
     ]
    }
   ],
   "source": [
    "def convertir_a_calificacion(tiempo_jugado):\n",
    "    if tiempo_jugado == 0:\n",
    "        return 1  # El usuario no ha jugado el juego\n",
    "    elif tiempo_jugado <= 1:\n",
    "        return 2  # Jugó menos de 1 hora\n",
    "    elif tiempo_jugado <= 5:\n",
    "        return 3  # Jugó entre 1 y 5 horas\n",
    "    elif tiempo_jugado <= 20:\n",
    "        return 4  # Jugó entre 5 y 20 horas\n",
    "    else:\n",
    "        return 5  # Jugó más de 20 horas\n",
    "\n",
    "data['calificacion'] = data['Hours'].apply(convertir_a_calificacion)\n",
    "\n",
    "reader = Reader(rating_scale=(1, 5))\n",
    "dset = Dataset.load_from_df(data[['ID', 'Game', 'calificacion']], reader)"
   ]
  },
  {
   "cell_type": "markdown",
   "metadata": {},
   "source": [
    "## Prueba con (`KNNBasic()`)"
   ]
  },
  {
   "cell_type": "code",
   "execution_count": 124,
   "metadata": {},
   "outputs": [
    {
     "name": "stdout",
     "output_type": "stream",
     "text": [
      "Computing the msd similarity matrix...\n",
      "Done computing similarity matrix.\n",
      "RMSE: 1.0114\n"
     ]
    },
    {
     "data": {
      "text/plain": [
       "1.0114160159077752"
      ]
     },
     "execution_count": 124,
     "metadata": {},
     "output_type": "execute_result"
    }
   ],
   "source": [
    "trainset, testset = train_test_split(dset, test_size=0.25)\n",
    "\n",
    "algo = KNNBasic()\n",
    "\n",
    "algo.fit(trainset)\n",
    "\n",
    "predictions = algo.test(testset)\n",
    "\n",
    "accuracy.rmse(predictions)"
   ]
  },
  {
   "cell_type": "markdown",
   "metadata": {},
   "source": [
    "## Prueba con (`SVD()`)"
   ]
  },
  {
   "cell_type": "code",
   "execution_count": 125,
   "metadata": {},
   "outputs": [
    {
     "name": "stdout",
     "output_type": "stream",
     "text": [
      "RMSE: 0.9775\n"
     ]
    },
    {
     "data": {
      "text/plain": [
       "0.977512951260375"
      ]
     },
     "execution_count": 125,
     "metadata": {},
     "output_type": "execute_result"
    }
   ],
   "source": [
    "from surprise import SVD\n",
    "\n",
    "SVD = SVD()\n",
    "\n",
    "SVD.fit(trainset)\n",
    "pred = SVD.test(testset)\n",
    "\n",
    "accuracy.rmse(pred)"
   ]
  },
  {
   "cell_type": "markdown",
   "metadata": {},
   "source": [
    "## Prueba con (`KNNWithMeas()`)"
   ]
  },
  {
   "cell_type": "code",
   "execution_count": 126,
   "metadata": {},
   "outputs": [
    {
     "name": "stdout",
     "output_type": "stream",
     "text": [
      "Computing the msd similarity matrix...\n",
      "Done computing similarity matrix.\n",
      "RMSE: 1.0342\n"
     ]
    },
    {
     "data": {
      "text/plain": [
       "1.0341540504870246"
      ]
     },
     "execution_count": 126,
     "metadata": {},
     "output_type": "execute_result"
    }
   ],
   "source": [
    "from surprise import KNNWithMeans\n",
    "\n",
    "algo = KNNWithMeans()\n",
    "\n",
    "algo.fit(trainset)\n",
    "predictions = algo.test(testset)\n",
    "\n",
    "accuracy.rmse(predictions)"
   ]
  },
  {
   "cell_type": "markdown",
   "metadata": {},
   "source": [
    "# Modelos de Clasificación para el Dataset de Fallos Cardíacos\n",
    "\n",
    "En esta sección, trabajamos con un segundo dataset (`heart_failure_clinical_records_dataset.csv`) que contiene registros clínicos sobre fallos cardíacos. Implementamos tres modelos de clasificación binaria: Perceptrón, ADALINE y Regresión Logística. Estos modelos son útiles para predecir si un paciente fallecerá a partir de diversas características clínicas.\n"
   ]
  },
  {
   "cell_type": "code",
   "execution_count": 127,
   "metadata": {},
   "outputs": [
    {
     "name": "stderr",
     "output_type": "stream",
     "text": [
      "<>:1: DeprecationWarning:\n",
      "\n",
      "invalid escape sequence '\\h'\n",
      "\n",
      "<>:1: DeprecationWarning:\n",
      "\n",
      "invalid escape sequence '\\h'\n",
      "\n",
      "C:\\Users\\juano\\AppData\\Local\\Temp\\ipykernel_16780\\1153065988.py:1: DeprecationWarning:\n",
      "\n",
      "invalid escape sequence '\\h'\n",
      "\n"
     ]
    }
   ],
   "source": [
    "data = pd.read_csv('Bases\\heart_failure_clinical_records_dataset.csv')\n",
    "data.head()\n",
    "\n",
    "from sklearn.model_selection import train_test_split\n",
    "X = data.drop(columns=['DEATH_EVENT'])\n",
    "y = data['DEATH_EVENT']\n",
    "X_train, X_test, y_train, y_test = train_test_split(X, y, test_size=0.2, random_state=42)\n"
   ]
  },
  {
   "cell_type": "markdown",
   "metadata": {},
   "source": [
    "# Entrenamiento del Modelo Perceptrón\n",
    "\n",
    "Entrenamos un modelo de Perceptrón utilizando los datos de entrenamiento. El Perceptrón es un tipo de red neuronal simple que es especialmente útil para tareas de clasificación binaria.\n"
   ]
  },
  {
   "cell_type": "code",
   "execution_count": 128,
   "metadata": {},
   "outputs": [],
   "source": [
    "perceptron = Perceptron(max_iter=1000)\n",
    "perceptron.fit(X_train, y_train)\n",
    "y_pred_perceptron = perceptron.predict(X_test)\n"
   ]
  },
  {
   "cell_type": "markdown",
   "metadata": {},
   "source": [
    "# Entrenamiento del Modelo ADALINE\n",
    "\n",
    "El modelo ADALINE (Adaptive Linear Neuron) es una extensión del Perceptrón, y lo entrenamos con los mismos datos. Utiliza una función de pérdida cuadrática y un método de descenso de gradiente estocástico.\n"
   ]
  },
  {
   "cell_type": "code",
   "execution_count": 129,
   "metadata": {},
   "outputs": [],
   "source": [
    "adaline = SGDClassifier(loss='perceptron', max_iter=1000, eta0=0.001, learning_rate='constant')\n",
    "adaline.fit(X_train, y_train)\n",
    "y_pred_adaline = adaline.predict(X_test)\n"
   ]
  },
  {
   "cell_type": "markdown",
   "metadata": {},
   "source": [
    "# Entrenamiento del Modelo de Regresión Logística\n",
    "\n",
    "El modelo de Regresión Logística es otro enfoque para la clasificación binaria. A diferencia del Perceptrón y ADALINE, este modelo estima probabilidades, lo que le permite manejar mejor datos ruidosos.\n"
   ]
  },
  {
   "cell_type": "code",
   "execution_count": 130,
   "metadata": {},
   "outputs": [
    {
     "name": "stderr",
     "output_type": "stream",
     "text": [
      "C:\\Users\\juano\\AppData\\Local\\Packages\\PythonSoftwareFoundation.Python.3.11_qbz5n2kfra8p0\\LocalCache\\local-packages\\Python311\\site-packages\\sklearn\\linear_model\\_logistic.py:469: ConvergenceWarning:\n",
      "\n",
      "lbfgs failed to converge (status=1):\n",
      "STOP: TOTAL NO. of ITERATIONS REACHED LIMIT.\n",
      "\n",
      "Increase the number of iterations (max_iter) or scale the data as shown in:\n",
      "    https://scikit-learn.org/stable/modules/preprocessing.html\n",
      "Please also refer to the documentation for alternative solver options:\n",
      "    https://scikit-learn.org/stable/modules/linear_model.html#logistic-regression\n",
      "\n"
     ]
    }
   ],
   "source": [
    "logistic = LogisticRegression()\n",
    "logistic.fit(X_train, y_train)\n",
    "y_pred_logistic = logistic.predict(X_test)\n"
   ]
  },
  {
   "cell_type": "markdown",
   "metadata": {},
   "source": [
    "# Evaluación de los Modelos\n",
    "\n",
    "Finalmente, comparamos los tres modelos (Perceptrón, ADALINE y Regresión Logística) utilizando un informe de clasificación, que incluye métricas como la precisión, recall, f1-score y más.\n"
   ]
  },
  {
   "cell_type": "code",
   "execution_count": 131,
   "metadata": {},
   "outputs": [
    {
     "name": "stdout",
     "output_type": "stream",
     "text": [
      "Perceptron:\n",
      "               precision    recall  f1-score   support\n",
      "\n",
      "           0       0.58      1.00      0.74        35\n",
      "           1       0.00      0.00      0.00        25\n",
      "\n",
      "    accuracy                           0.58        60\n",
      "   macro avg       0.29      0.50      0.37        60\n",
      "weighted avg       0.34      0.58      0.43        60\n",
      "\n",
      "ADALINE:\n",
      "               precision    recall  f1-score   support\n",
      "\n",
      "           0       0.58      1.00      0.74        35\n",
      "           1       0.00      0.00      0.00        25\n",
      "\n",
      "    accuracy                           0.58        60\n",
      "   macro avg       0.29      0.50      0.37        60\n",
      "weighted avg       0.34      0.58      0.43        60\n",
      "\n",
      "Regresión Logística:\n",
      "               precision    recall  f1-score   support\n",
      "\n",
      "           0       0.77      0.97      0.86        35\n",
      "           1       0.94      0.60      0.73        25\n",
      "\n",
      "    accuracy                           0.82        60\n",
      "   macro avg       0.86      0.79      0.80        60\n",
      "weighted avg       0.84      0.82      0.81        60\n",
      "\n"
     ]
    },
    {
     "name": "stderr",
     "output_type": "stream",
     "text": [
      "C:\\Users\\juano\\AppData\\Local\\Packages\\PythonSoftwareFoundation.Python.3.11_qbz5n2kfra8p0\\LocalCache\\local-packages\\Python311\\site-packages\\sklearn\\metrics\\_classification.py:1509: UndefinedMetricWarning:\n",
      "\n",
      "Precision is ill-defined and being set to 0.0 in labels with no predicted samples. Use `zero_division` parameter to control this behavior.\n",
      "\n",
      "C:\\Users\\juano\\AppData\\Local\\Packages\\PythonSoftwareFoundation.Python.3.11_qbz5n2kfra8p0\\LocalCache\\local-packages\\Python311\\site-packages\\sklearn\\metrics\\_classification.py:1509: UndefinedMetricWarning:\n",
      "\n",
      "Precision is ill-defined and being set to 0.0 in labels with no predicted samples. Use `zero_division` parameter to control this behavior.\n",
      "\n",
      "C:\\Users\\juano\\AppData\\Local\\Packages\\PythonSoftwareFoundation.Python.3.11_qbz5n2kfra8p0\\LocalCache\\local-packages\\Python311\\site-packages\\sklearn\\metrics\\_classification.py:1509: UndefinedMetricWarning:\n",
      "\n",
      "Precision is ill-defined and being set to 0.0 in labels with no predicted samples. Use `zero_division` parameter to control this behavior.\n",
      "\n",
      "C:\\Users\\juano\\AppData\\Local\\Packages\\PythonSoftwareFoundation.Python.3.11_qbz5n2kfra8p0\\LocalCache\\local-packages\\Python311\\site-packages\\sklearn\\metrics\\_classification.py:1509: UndefinedMetricWarning:\n",
      "\n",
      "Precision is ill-defined and being set to 0.0 in labels with no predicted samples. Use `zero_division` parameter to control this behavior.\n",
      "\n",
      "C:\\Users\\juano\\AppData\\Local\\Packages\\PythonSoftwareFoundation.Python.3.11_qbz5n2kfra8p0\\LocalCache\\local-packages\\Python311\\site-packages\\sklearn\\metrics\\_classification.py:1509: UndefinedMetricWarning:\n",
      "\n",
      "Precision is ill-defined and being set to 0.0 in labels with no predicted samples. Use `zero_division` parameter to control this behavior.\n",
      "\n",
      "C:\\Users\\juano\\AppData\\Local\\Packages\\PythonSoftwareFoundation.Python.3.11_qbz5n2kfra8p0\\LocalCache\\local-packages\\Python311\\site-packages\\sklearn\\metrics\\_classification.py:1509: UndefinedMetricWarning:\n",
      "\n",
      "Precision is ill-defined and being set to 0.0 in labels with no predicted samples. Use `zero_division` parameter to control this behavior.\n",
      "\n"
     ]
    }
   ],
   "source": [
    "print(\"Perceptron:\\n\", classification_report(y_test, y_pred_perceptron))\n",
    "print(\"ADALINE:\\n\", classification_report(y_test, y_pred_adaline))\n",
    "print(\"Regresión Logística:\\n\", classification_report(y_test, y_pred_logistic))\n"
   ]
  }
 ],
 "metadata": {
  "kernelspec": {
   "display_name": "Python 3",
   "language": "python",
   "name": "python3"
  },
  "language_info": {
   "codemirror_mode": {
    "name": "ipython",
    "version": 3
   },
   "file_extension": ".py",
   "mimetype": "text/x-python",
   "name": "python",
   "nbconvert_exporter": "python",
   "pygments_lexer": "ipython3",
   "version": "3.11.9"
  }
 },
 "nbformat": 4,
 "nbformat_minor": 2
}
